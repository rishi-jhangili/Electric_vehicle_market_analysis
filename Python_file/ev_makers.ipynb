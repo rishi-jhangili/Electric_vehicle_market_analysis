{
 "cells": [
  {
   "cell_type": "code",
   "execution_count": 1,
   "id": "d6d4f069-9d64-4d30-992b-56aab68d3614",
   "metadata": {},
   "outputs": [],
   "source": [
    "import pandas as pd"
   ]
  },
  {
   "cell_type": "code",
   "execution_count": 2,
   "id": "406db004-a6bb-4ff4-bee5-216617cafc0e",
   "metadata": {},
   "outputs": [],
   "source": [
    "df = pd.read_csv('/Users/jrt/Downloads/RPC12_Input_For_Participants/datasets/electric_vehicle_sales_by_makers.csv')"
   ]
  },
  {
   "cell_type": "code",
   "execution_count": 3,
   "id": "71a729ba-cc13-414d-b6a1-1adf3614545a",
   "metadata": {},
   "outputs": [
    {
     "name": "stdout",
     "output_type": "stream",
     "text": [
      "<class 'pandas.core.frame.DataFrame'>\n",
      "RangeIndex: 816 entries, 0 to 815\n",
      "Data columns (total 4 columns):\n",
      " #   Column                  Non-Null Count  Dtype \n",
      "---  ------                  --------------  ----- \n",
      " 0   date                    816 non-null    object\n",
      " 1   vehicle_category        816 non-null    object\n",
      " 2   maker                   816 non-null    object\n",
      " 3   electric_vehicles_sold  816 non-null    int64 \n",
      "dtypes: int64(1), object(3)\n",
      "memory usage: 25.6+ KB\n"
     ]
    }
   ],
   "source": [
    "df.info()"
   ]
  },
  {
   "cell_type": "code",
   "execution_count": 4,
   "id": "d6420067-b555-48fd-b4b9-557880ba6e44",
   "metadata": {},
   "outputs": [
    {
     "data": {
      "text/html": [
       "<div>\n",
       "<style scoped>\n",
       "    .dataframe tbody tr th:only-of-type {\n",
       "        vertical-align: middle;\n",
       "    }\n",
       "\n",
       "    .dataframe tbody tr th {\n",
       "        vertical-align: top;\n",
       "    }\n",
       "\n",
       "    .dataframe thead th {\n",
       "        text-align: right;\n",
       "    }\n",
       "</style>\n",
       "<table border=\"1\" class=\"dataframe\">\n",
       "  <thead>\n",
       "    <tr style=\"text-align: right;\">\n",
       "      <th></th>\n",
       "      <th>date</th>\n",
       "      <th>vehicle_category</th>\n",
       "      <th>maker</th>\n",
       "      <th>electric_vehicles_sold</th>\n",
       "    </tr>\n",
       "  </thead>\n",
       "  <tbody>\n",
       "    <tr>\n",
       "      <th>0</th>\n",
       "      <td>01-Apr-21</td>\n",
       "      <td>2-Wheelers</td>\n",
       "      <td>OLA ELECTRIC</td>\n",
       "      <td>0</td>\n",
       "    </tr>\n",
       "    <tr>\n",
       "      <th>1</th>\n",
       "      <td>01-Apr-22</td>\n",
       "      <td>2-Wheelers</td>\n",
       "      <td>OKAYA EV</td>\n",
       "      <td>0</td>\n",
       "    </tr>\n",
       "    <tr>\n",
       "      <th>2</th>\n",
       "      <td>01-May-21</td>\n",
       "      <td>2-Wheelers</td>\n",
       "      <td>OLA ELECTRIC</td>\n",
       "      <td>0</td>\n",
       "    </tr>\n",
       "    <tr>\n",
       "      <th>3</th>\n",
       "      <td>01-Jun-21</td>\n",
       "      <td>2-Wheelers</td>\n",
       "      <td>OLA ELECTRIC</td>\n",
       "      <td>0</td>\n",
       "    </tr>\n",
       "    <tr>\n",
       "      <th>4</th>\n",
       "      <td>01-Jul-21</td>\n",
       "      <td>2-Wheelers</td>\n",
       "      <td>OLA ELECTRIC</td>\n",
       "      <td>0</td>\n",
       "    </tr>\n",
       "  </tbody>\n",
       "</table>\n",
       "</div>"
      ],
      "text/plain": [
       "        date vehicle_category         maker  electric_vehicles_sold\n",
       "0  01-Apr-21       2-Wheelers  OLA ELECTRIC                       0\n",
       "1  01-Apr-22       2-Wheelers      OKAYA EV                       0\n",
       "2  01-May-21       2-Wheelers  OLA ELECTRIC                       0\n",
       "3  01-Jun-21       2-Wheelers  OLA ELECTRIC                       0\n",
       "4  01-Jul-21       2-Wheelers  OLA ELECTRIC                       0"
      ]
     },
     "execution_count": 4,
     "metadata": {},
     "output_type": "execute_result"
    }
   ],
   "source": [
    "df.head()"
   ]
  },
  {
   "cell_type": "code",
   "execution_count": 5,
   "id": "0294c083-1821-4020-96c7-4a5099de2f79",
   "metadata": {},
   "outputs": [
    {
     "data": {
      "text/html": [
       "<div>\n",
       "<style scoped>\n",
       "    .dataframe tbody tr th:only-of-type {\n",
       "        vertical-align: middle;\n",
       "    }\n",
       "\n",
       "    .dataframe tbody tr th {\n",
       "        vertical-align: top;\n",
       "    }\n",
       "\n",
       "    .dataframe thead th {\n",
       "        text-align: right;\n",
       "    }\n",
       "</style>\n",
       "<table border=\"1\" class=\"dataframe\">\n",
       "  <thead>\n",
       "    <tr style=\"text-align: right;\">\n",
       "      <th></th>\n",
       "      <th>date</th>\n",
       "      <th>vehicle_category</th>\n",
       "      <th>maker</th>\n",
       "      <th>electric_vehicles_sold</th>\n",
       "    </tr>\n",
       "  </thead>\n",
       "  <tbody>\n",
       "    <tr>\n",
       "      <th>811</th>\n",
       "      <td>01-Mar-24</td>\n",
       "      <td>2-Wheelers</td>\n",
       "      <td>BGAUSS</td>\n",
       "      <td>3070</td>\n",
       "    </tr>\n",
       "    <tr>\n",
       "      <th>812</th>\n",
       "      <td>01-Mar-24</td>\n",
       "      <td>2-Wheelers</td>\n",
       "      <td>BATTRE ELECTRIC</td>\n",
       "      <td>625</td>\n",
       "    </tr>\n",
       "    <tr>\n",
       "      <th>813</th>\n",
       "      <td>01-Mar-24</td>\n",
       "      <td>2-Wheelers</td>\n",
       "      <td>KINETIC GREEN</td>\n",
       "      <td>3915</td>\n",
       "    </tr>\n",
       "    <tr>\n",
       "      <th>814</th>\n",
       "      <td>01-Mar-24</td>\n",
       "      <td>2-Wheelers</td>\n",
       "      <td>REVOLT</td>\n",
       "      <td>585</td>\n",
       "    </tr>\n",
       "    <tr>\n",
       "      <th>815</th>\n",
       "      <td>01-Mar-24</td>\n",
       "      <td>2-Wheelers</td>\n",
       "      <td>OTHERS</td>\n",
       "      <td>10579</td>\n",
       "    </tr>\n",
       "  </tbody>\n",
       "</table>\n",
       "</div>"
      ],
      "text/plain": [
       "          date vehicle_category            maker  electric_vehicles_sold\n",
       "811  01-Mar-24       2-Wheelers           BGAUSS                    3070\n",
       "812  01-Mar-24       2-Wheelers  BATTRE ELECTRIC                     625\n",
       "813  01-Mar-24       2-Wheelers    KINETIC GREEN                    3915\n",
       "814  01-Mar-24       2-Wheelers           REVOLT                     585\n",
       "815  01-Mar-24       2-Wheelers           OTHERS                   10579"
      ]
     },
     "execution_count": 5,
     "metadata": {},
     "output_type": "execute_result"
    }
   ],
   "source": [
    "df.tail()"
   ]
  },
  {
   "cell_type": "code",
   "execution_count": 6,
   "id": "4ca8c490-a015-4c42-9399-6ecbb375b48d",
   "metadata": {},
   "outputs": [
    {
     "data": {
      "text/plain": [
       "(816, 4)"
      ]
     },
     "execution_count": 6,
     "metadata": {},
     "output_type": "execute_result"
    }
   ],
   "source": [
    "df.shape"
   ]
  },
  {
   "cell_type": "code",
   "execution_count": 6,
   "id": "b6ede261-ae39-4cf7-acea-4262686587c3",
   "metadata": {},
   "outputs": [
    {
     "data": {
      "text/html": [
       "<div>\n",
       "<style scoped>\n",
       "    .dataframe tbody tr th:only-of-type {\n",
       "        vertical-align: middle;\n",
       "    }\n",
       "\n",
       "    .dataframe tbody tr th {\n",
       "        vertical-align: top;\n",
       "    }\n",
       "\n",
       "    .dataframe thead th {\n",
       "        text-align: right;\n",
       "    }\n",
       "</style>\n",
       "<table border=\"1\" class=\"dataframe\">\n",
       "  <thead>\n",
       "    <tr style=\"text-align: right;\">\n",
       "      <th></th>\n",
       "      <th>date</th>\n",
       "      <th>vehicle_category</th>\n",
       "      <th>maker</th>\n",
       "      <th>electric_vehicles_sold</th>\n",
       "    </tr>\n",
       "  </thead>\n",
       "  <tbody>\n",
       "  </tbody>\n",
       "</table>\n",
       "</div>"
      ],
      "text/plain": [
       "Empty DataFrame\n",
       "Columns: [date, vehicle_category, maker, electric_vehicles_sold]\n",
       "Index: []"
      ]
     },
     "execution_count": 6,
     "metadata": {},
     "output_type": "execute_result"
    }
   ],
   "source": [
    "df[df.duplicated()] # No duplicates"
   ]
  },
  {
   "cell_type": "code",
   "execution_count": 7,
   "id": "a0cc9b9d-19c0-4ee4-a5c6-3c57fe343fc3",
   "metadata": {},
   "outputs": [
    {
     "data": {
      "text/plain": [
       "date                      object\n",
       "vehicle_category          object\n",
       "maker                     object\n",
       "electric_vehicles_sold     int64\n",
       "dtype: object"
      ]
     },
     "execution_count": 7,
     "metadata": {},
     "output_type": "execute_result"
    }
   ],
   "source": [
    "df.dtypes"
   ]
  },
  {
   "cell_type": "code",
   "execution_count": 8,
   "id": "4c672dab-223d-4fa8-84fa-47079879e673",
   "metadata": {},
   "outputs": [
    {
     "data": {
      "text/html": [
       "<div>\n",
       "<style scoped>\n",
       "    .dataframe tbody tr th:only-of-type {\n",
       "        vertical-align: middle;\n",
       "    }\n",
       "\n",
       "    .dataframe tbody tr th {\n",
       "        vertical-align: top;\n",
       "    }\n",
       "\n",
       "    .dataframe thead th {\n",
       "        text-align: right;\n",
       "    }\n",
       "</style>\n",
       "<table border=\"1\" class=\"dataframe\">\n",
       "  <thead>\n",
       "    <tr style=\"text-align: right;\">\n",
       "      <th></th>\n",
       "      <th>electric_vehicles_sold</th>\n",
       "    </tr>\n",
       "  </thead>\n",
       "  <tbody>\n",
       "    <tr>\n",
       "      <th>count</th>\n",
       "      <td>816.000000</td>\n",
       "    </tr>\n",
       "    <tr>\n",
       "      <th>mean</th>\n",
       "      <td>2531.998775</td>\n",
       "    </tr>\n",
       "    <tr>\n",
       "      <th>std</th>\n",
       "      <td>4771.077333</td>\n",
       "    </tr>\n",
       "    <tr>\n",
       "      <th>min</th>\n",
       "      <td>0.000000</td>\n",
       "    </tr>\n",
       "    <tr>\n",
       "      <th>25%</th>\n",
       "      <td>42.000000</td>\n",
       "    </tr>\n",
       "    <tr>\n",
       "      <th>50%</th>\n",
       "      <td>662.000000</td>\n",
       "    </tr>\n",
       "    <tr>\n",
       "      <th>75%</th>\n",
       "      <td>2636.500000</td>\n",
       "    </tr>\n",
       "    <tr>\n",
       "      <th>max</th>\n",
       "      <td>44630.000000</td>\n",
       "    </tr>\n",
       "  </tbody>\n",
       "</table>\n",
       "</div>"
      ],
      "text/plain": [
       "       electric_vehicles_sold\n",
       "count              816.000000\n",
       "mean              2531.998775\n",
       "std               4771.077333\n",
       "min                  0.000000\n",
       "25%                 42.000000\n",
       "50%                662.000000\n",
       "75%               2636.500000\n",
       "max              44630.000000"
      ]
     },
     "execution_count": 8,
     "metadata": {},
     "output_type": "execute_result"
    }
   ],
   "source": [
    "df.describe()"
   ]
  },
  {
   "cell_type": "code",
   "execution_count": 28,
   "id": "1cedcc31-6777-4ea8-ac4e-365d773f4424",
   "metadata": {},
   "outputs": [
    {
     "data": {
      "text/plain": [
       "vehicle_category\n",
       "2-Wheelers    456\n",
       "4-Wheelers    360\n",
       "Name: count, dtype: int64"
      ]
     },
     "execution_count": 28,
     "metadata": {},
     "output_type": "execute_result"
    }
   ],
   "source": [
    "# Find out the unique values for vechile category and maker\n",
    "\n",
    "df['maker'].unique()\n",
    "df['vehicle_category'].value_counts()"
   ]
  },
  {
   "cell_type": "code",
   "execution_count": 17,
   "id": "a18c6b16-6d93-4740-92a4-a7aa42fc9791",
   "metadata": {},
   "outputs": [],
   "source": [
    "check_ = ['maker', 'vehicle_category']"
   ]
  },
  {
   "cell_type": "code",
   "execution_count": 43,
   "id": "6019ecb0-73d7-4c2a-860c-d33200b8bb34",
   "metadata": {},
   "outputs": [],
   "source": [
    "def check_unique_and_counts(df, columns):\n",
    "    for column in columns:\n",
    "        if column in df.columns:\n",
    "            unique = df[column].unique()\n",
    "            print(f'the unique values of {column}: \\n{unique}\\n')\n",
    "            unique_count = df[column].value_counts()\n",
    "            print(f'the unique value counts of {column}: {unique_count}\\n\\n')\n",
    "        else:\n",
    "            print(f'the column {column} does not exist in dataframe')"
   ]
  },
  {
   "cell_type": "code",
   "execution_count": 44,
   "id": "41cde1ee-af56-4b3d-8c81-c4a0f49b1dff",
   "metadata": {},
   "outputs": [
    {
     "name": "stdout",
     "output_type": "stream",
     "text": [
      "the unique values of maker: \n",
      "['OLA ELECTRIC' 'OKAYA EV' 'BYD India' 'PCA Automobiles' 'BMW India'\n",
      " 'Volvo Auto India' 'KIA Motors' 'Mercedes -Benz AG' 'Tata Motors'\n",
      " 'MG Motor' 'Mahindra & Mahindra' 'Hyundai Motor' 'HERO ELECTRIC'\n",
      " 'OKINAWA' 'AMPERE' 'ATHER' 'PURE EV' 'TVS' 'REVOLT' 'BAJAJ' 'BEING'\n",
      " 'JITENDRA' 'OTHERS' 'BGAUSS' 'BATTRE ELECTRIC' 'KINETIC GREEN']\n",
      "\n",
      "the unique value counts of maker: maker\n",
      "OLA ELECTRIC           36\n",
      "Mahindra & Mahindra    36\n",
      "OTHERS                 36\n",
      "BAJAJ                  36\n",
      "REVOLT                 36\n",
      "TVS                    36\n",
      "ATHER                  36\n",
      "AMPERE                 36\n",
      "HERO ELECTRIC          36\n",
      "Hyundai Motor          36\n",
      "OKINAWA                36\n",
      "MG Motor               36\n",
      "Tata Motors            36\n",
      "Mercedes -Benz AG      36\n",
      "KIA Motors             36\n",
      "Volvo Auto India       36\n",
      "BMW India              36\n",
      "PCA Automobiles        36\n",
      "BYD India              36\n",
      "OKAYA EV               24\n",
      "PURE EV                24\n",
      "BEING                  24\n",
      "JITENDRA               24\n",
      "BGAUSS                 12\n",
      "BATTRE ELECTRIC        12\n",
      "KINETIC GREEN          12\n",
      "Name: count, dtype: int64\n",
      "\n",
      "\n",
      "the unique values of vehicle_category: \n",
      "['2-Wheelers' '4-Wheelers']\n",
      "\n",
      "the unique value counts of vehicle_category: vehicle_category\n",
      "2-Wheelers    456\n",
      "4-Wheelers    360\n",
      "Name: count, dtype: int64\n",
      "\n",
      "\n"
     ]
    }
   ],
   "source": [
    "check_unique_and_counts(df, check_)"
   ]
  },
  {
   "cell_type": "code",
   "execution_count": 47,
   "id": "745145f2-22e3-4c2e-ba67-a9b1102ade3a",
   "metadata": {},
   "outputs": [],
   "source": [
    "df['date'] = pd.to_datetime(df['date'], format = '%d-%b-%y')"
   ]
  },
  {
   "cell_type": "code",
   "execution_count": 48,
   "id": "4e8751ed-4ec4-4c91-a8a1-5e71948876a6",
   "metadata": {},
   "outputs": [],
   "source": [
    "df.to_csv('ev_makers_clean.csv', index=False, encoding = 'utf-8')"
   ]
  }
 ],
 "metadata": {
  "kernelspec": {
   "display_name": "Python 3 (ipykernel)",
   "language": "python",
   "name": "python3"
  },
  "language_info": {
   "codemirror_mode": {
    "name": "ipython",
    "version": 3
   },
   "file_extension": ".py",
   "mimetype": "text/x-python",
   "name": "python",
   "nbconvert_exporter": "python",
   "pygments_lexer": "ipython3",
   "version": "3.12.3"
  }
 },
 "nbformat": 4,
 "nbformat_minor": 5
}
